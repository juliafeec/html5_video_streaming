{
 "cells": [
  {
   "cell_type": "code",
   "execution_count": 14,
   "metadata": {
    "ExecuteTime": {
     "end_time": "2019-04-06T01:19:27.185319Z",
     "start_time": "2019-04-06T01:19:27.172645Z"
    }
   },
   "outputs": [],
   "source": [
    "import sys\n",
    "sys.path.append(\"/home/julia/USF/spring2/productAnalytics/facenet/src\")\n",
    "\n",
    "from align import detect_face\n",
    "from facenet import prewhiten, crop, flip, to_rgb\n",
    "\n",
    "import tensorflow as tf\n",
    "import numpy as np\n",
    "import facenet\n",
    "import os\n",
    "import sys\n",
    "import numpy as np\n",
    "import pickle\n",
    "import numpy as np\n",
    "from scipy import misc\n",
    "import cv2"
   ]
  },
  {
   "cell_type": "code",
   "execution_count": 18,
   "metadata": {
    "ExecuteTime": {
     "end_time": "2019-04-06T01:19:32.789191Z",
     "start_time": "2019-04-06T01:19:32.785922Z"
    }
   },
   "outputs": [],
   "source": [
    "def load_img(img, do_random_crop, do_random_flip, image_size, do_prewhiten=True):\n",
    "    images = np.zeros((1, image_size, image_size, 3))\n",
    "    if img.ndim == 2:\n",
    "        img = to_rgb(img)\n",
    "    if do_prewhiten:\n",
    "        img = prewhiten(img)\n",
    "    img = crop(img, do_random_crop, image_size)\n",
    "    img = flip(img, do_random_flip)\n",
    "    images[:,:,:,:] = img\n",
    "    return images"
   ]
  },
  {
   "cell_type": "code",
   "execution_count": 9,
   "metadata": {
    "ExecuteTime": {
     "end_time": "2019-04-06T01:11:48.549324Z",
     "start_time": "2019-04-06T01:11:48.528371Z"
    }
   },
   "outputs": [],
   "source": [
    "def align_face(img, pnet, rnet, onet):\n",
    "\n",
    "    minsize = 20 # minimum size of face\n",
    "    threshold = [ 0.6, 0.7, 0.7 ]  # three steps's threshold\n",
    "    factor = 0.709 # scale factor\n",
    "    image_size = 160\n",
    "\n",
    "    print(\"before img.size == 0\")\t\n",
    "    if img.size == 0:\n",
    "        print(\"empty array\")\n",
    "        return False,img,[0,0,0,0]\n",
    "\n",
    "    if img.ndim<2:\n",
    "        print('Unable to align')\n",
    "\n",
    "    if img.ndim == 2:\n",
    "        img = to_rgb(img)\n",
    "\n",
    "    img = img[:,:,0:3]\n",
    "    margin = 44\n",
    "\n",
    "    bounding_boxes, _ = detect_face.detect_face(img, minsize, pnet, rnet, onet, threshold, factor)\n",
    "\n",
    "    nrof_faces = bounding_boxes.shape[0]\n",
    "    detect_multiple_faces = True\n",
    "    \n",
    "    if nrof_faces==0:\n",
    "        return False,img,[0,0,0,0]\n",
    "    else:\n",
    "        det = bounding_boxes[:,0:4]\n",
    "        det_arr = []\n",
    "        img_size = np.asarray(img.shape)[0:2]\n",
    "        if nrof_faces>1:\n",
    "            if detect_multiple_faces:\n",
    "                for i in range(nrof_faces):\n",
    "                    det_arr.append(np.squeeze(det[i]))\n",
    "            else:\n",
    "                bounding_box_size = (det[:,2]-det[:,0])*(det[:,3]-det[:,1])\n",
    "                img_center = img_size / 2\n",
    "                offsets = np.vstack([ (det[:,0]+det[:,2])/2-img_center[1], (det[:,1]+det[:,3])/2-img_center[0] ])\n",
    "                offset_dist_squared = np.sum(np.power(offsets,2.0),0)\n",
    "                index = np.argmax(bounding_box_size-offset_dist_squared*2.0) # some extra weight on the centering\n",
    "                det_arr.append(det[index,:])\n",
    "        else:\n",
    "            det_arr.append(np.squeeze(det))\n",
    "        if len(det_arr)>0:\n",
    "                faces = []\n",
    "                bboxes = []\n",
    "        for i, det in enumerate(det_arr):\n",
    "            det = np.squeeze(det)\n",
    "            bb = np.zeros(4, dtype=np.int32)\n",
    "            bb[0] = np.maximum(det[0]-margin/2, 0)\n",
    "            bb[1] = np.maximum(det[1]-margin/2, 0)\n",
    "            bb[2] = np.minimum(det[2]+margin/2, img_size[1])\n",
    "            bb[3] = np.minimum(det[3]+margin/2, img_size[0])\n",
    "            cropped = img[bb[1]:bb[3],bb[0]:bb[2],:]\n",
    "            scaled = misc.imresize(cropped, (image_size, image_size), interp='bilinear')\n",
    "            faces.append(scaled)\n",
    "            bboxes.append(bb)\n",
    "            print(\"leaving align face\")\n",
    "        return True,faces,bboxes\n",
    "\n",
    "from scipy.spatial.distance import cdist\n",
    "\n",
    "def identify_person(image_vector, feature_names, feature_np, k=9):\n",
    "    print(image_vector.shape)\n",
    "    d = np.squeeze(cdist(image_vector, feature_np, metric='euclidean'))\n",
    "    top_k_ind = np.argsort(d).tolist()[:k]\n",
    "    result = feature_names[top_k_ind[0]]\n",
    "    distance = d[top_k_ind[0]]\n",
    "    result = result.split(\"_\")[0]\n",
    "    return result, distance\n",
    "\n",
    "# def identify_person(image_vector, feature_dict, k=9):\n",
    "#     top_k_ind = np.argsort([np.linalg.norm(image_vector-pred_row) \\\n",
    "#                         for ith_row, pred_row in enumerate(feature_dict.values())])[:k]\n",
    "#     result = list(feature_array.keys())[top_k_ind[0]]\n",
    "#     distance = np.linalg.norm(image_vector-list(feature_array.values())[top_k_ind[0]])\n",
    "#     result = result.split(\"_\")[0]\n",
    "#     return result, distance\n",
    "\n",
    "def recognize_face(sess,pnet, rnet, onet, feature_names, feature_np):\n",
    "    images_placeholder = sess.graph.get_tensor_by_name(\"input:0\")\n",
    "    images_placeholder = tf.image.resize_images(images_placeholder,(160,160))\n",
    "    embeddings = sess.graph.get_tensor_by_name(\"embeddings:0\")\n",
    "    phase_train_placeholder = sess.graph.get_tensor_by_name(\"phase_train:0\")\n",
    "\n",
    "    image_size = 160\n",
    "    embedding_size = embeddings.get_shape()[1]\n",
    "\n",
    "    cap = cv2.VideoCapture(-1)\n",
    "\n",
    "    while(True):\n",
    "        ret, frame = cap.read()\n",
    "        gray = cv2.cvtColor(frame, 0)\n",
    "        if cv2.waitKey(1) & 0xFF == ord('q'):\n",
    "            cap.release()\n",
    "            cv2.destroyAllWindows()\n",
    "            break\n",
    "        if(gray.size > 0):\n",
    "            print(gray.size)\n",
    "            response, faces,bboxs = align_face(gray,pnet, rnet, onet)\n",
    "            print(response)\n",
    "            if (response == True):\n",
    "                    for i, image in enumerate(faces):\n",
    "                            bb = bboxs[i]\n",
    "                            images = load_img(image, False, False, image_size)\n",
    "                            feed_dict = { images_placeholder:images, phase_train_placeholder:False }\n",
    "                            feature_vector = sess.run(embeddings, feed_dict=feed_dict)\n",
    "                            result, distance = identify_person(feature_vector, feature_names, feature_np, 1)\n",
    "\n",
    "                            if distance < 0.90:\n",
    "                                print(\"result: {} acc: {}\".format(result, distance))\n",
    "\n",
    "                                cv2.rectangle(gray,(bb[0],bb[1]),(bb[2],bb[3]),(255,255,255),2)\n",
    "                                W = int(bb[2]-bb[0])//2\n",
    "                                H = int(bb[3]-bb[1])//2\n",
    "                                cv2.putText(gray,result,(bb[0]+W-(W//2),bb[1]-7), cv2.FONT_HERSHEY_SIMPLEX,0.5,(255,255,255),1,cv2.LINE_AA)\n",
    "                            else:\n",
    "                                cv2.rectangle(gray,(bb[0],bb[1]),(bb[2],bb[3]),(255,255,255),2)\n",
    "                                W = int(bb[2]-bb[0])//2\n",
    "                                H = int(bb[3]-bb[1])//2\n",
    "                                cv2.putText(gray,\"\",(bb[0]+W-(W//2),bb[1]-7), cv2.FONT_HERSHEY_SIMPLEX,0.5,(255,255,255),1,cv2.LINE_AA)\n",
    "                            del feature_vector\n",
    "\n",
    "            cv2.imshow('img',gray)\n",
    "        else:\n",
    "            continue"
   ]
  },
  {
   "cell_type": "code",
   "execution_count": 10,
   "metadata": {
    "ExecuteTime": {
     "end_time": "2019-04-06T01:11:51.903056Z",
     "start_time": "2019-04-06T01:11:51.894217Z"
    }
   },
   "outputs": [],
   "source": [
    "with open('extracted_dict.pickle','rb') as f:\n",
    "    feature_dict = pickle.load(f)\n",
    "    \n",
    "feature_names = np.array(list(feature_dict.keys()))\n",
    "feature_np = np.squeeze(list(feature_dict.values()))\n",
    "\n",
    "model_exp = \"20180408-102900/\"\n",
    "graph_fr = tf.Graph()\n",
    "sess_fr = tf.Session(graph=graph_fr)"
   ]
  },
  {
   "cell_type": "code",
   "execution_count": null,
   "metadata": {
    "ExecuteTime": {
     "end_time": "2019-04-06T01:13:58.790154Z",
     "start_time": "2019-04-06T01:11:53.512057Z"
    }
   },
   "outputs": [],
   "source": [
    "with graph_fr.as_default():\n",
    "    saverf = tf.train.import_meta_graph(os.path.join(model_exp, 'model-20180408-102900.meta'))\n",
    "    saverf.restore(sess_fr, os.path.join(model_exp, 'model-20180408-102900.ckpt-90'))\n",
    "    pnet, rnet, onet = detect_face.create_mtcnn(sess_fr, None)\n",
    "    recognize_face(sess_fr, pnet, rnet, onet, feature_names, feature_np)"
   ]
  }
 ],
 "metadata": {
  "kernelspec": {
   "display_name": "Python 3",
   "language": "python",
   "name": "python3"
  },
  "language_info": {
   "codemirror_mode": {
    "name": "ipython",
    "version": 3
   },
   "file_extension": ".py",
   "mimetype": "text/x-python",
   "name": "python",
   "nbconvert_exporter": "python",
   "pygments_lexer": "ipython3",
   "version": "3.6.8"
  }
 },
 "nbformat": 4,
 "nbformat_minor": 2
}
