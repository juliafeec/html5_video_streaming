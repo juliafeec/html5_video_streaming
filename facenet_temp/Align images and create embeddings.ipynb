{
 "cells": [
  {
   "cell_type": "code",
   "execution_count": 2,
   "metadata": {
    "ExecuteTime": {
     "end_time": "2019-04-06T02:45:58.160780Z",
     "start_time": "2019-04-06T02:45:57.295225Z"
    }
   },
   "outputs": [],
   "source": [
    "import sys\n",
    "sys.path.append(\"/home/julia/USF/spring2/productAnalytics/facenet/src\")\n",
    "\n",
    "from align import detect_face\n",
    "from facenet import prewhiten, crop, flip, to_rgb\n",
    "import facenet\n",
    "import tensorflow as tf\n",
    "from scipy import misc\n",
    "import matplotlib.pyplot as plt\n",
    "from glob import glob\n",
    "from tqdm import tqdm \n",
    "import os\n",
    "import numpy as np\n",
    "import pickle\n",
    "\n",
    "def load_and_align_data(image_paths, image_size=160, margin=44):\n",
    "\n",
    "    minsize = 20 # minimum size of face\n",
    "    threshold = [ 0.6, 0.7, 0.7 ]  # three steps's threshold\n",
    "    factor = 0.709 # scale factor\n",
    "\n",
    "    print('Creating networks and loading parameters')\n",
    "    with tf.Graph().as_default():\n",
    "        sess = tf.Session()\n",
    "        with sess.as_default():\n",
    "            pnet, rnet, onet = detect_face.create_mtcnn(sess, None)\n",
    "\n",
    "    img_list = []\n",
    "    nrof_samples = len(image_paths)\n",
    "    success_paths = []\n",
    "    for img_path in tqdm(image_paths):\n",
    "        img = misc.imread(img_path)\n",
    "        img_size = np.asarray(img.shape)[0:2]\n",
    "        bounding_boxes, _ = detect_face.detect_face(img, minsize, pnet, rnet, onet, threshold, factor)\n",
    "        if len(bounding_boxes) < 1:\n",
    "            print(\"no face found in {}\".format(img_path))\n",
    "            continue\n",
    "        det = np.squeeze(bounding_boxes[0,0:4])\n",
    "        bb = np.zeros(4, dtype=np.int32)\n",
    "        bb[0] = np.maximum(det[0]-margin/2, 0)\n",
    "        bb[1] = np.maximum(det[1]-margin/2, 0)\n",
    "        bb[2] = np.minimum(det[2]+margin/2, img_size[1])\n",
    "        bb[3] = np.minimum(det[3]+margin/2, img_size[0])\n",
    "        cropped = img[bb[1]:bb[3],bb[0]:bb[2],:]\n",
    "        aligned = misc.imresize(cropped, (image_size, image_size), interp='bilinear')\n",
    "        prewhitened = prewhiten(aligned)\n",
    "        img_list.append(prewhitened)\n",
    "        success_paths.append(img_path)\n",
    "    images = np.stack(img_list)\n",
    "    return success_paths, images"
   ]
  },
  {
   "cell_type": "code",
   "execution_count": 3,
   "metadata": {
    "ExecuteTime": {
     "end_time": "2019-04-06T02:46:06.801072Z",
     "start_time": "2019-04-06T02:46:06.798191Z"
    }
   },
   "outputs": [],
   "source": [
    "filenames = glob(\"photos/photos_raw/*/**\")"
   ]
  },
  {
   "cell_type": "code",
   "execution_count": 4,
   "metadata": {
    "ExecuteTime": {
     "end_time": "2019-04-06T02:46:34.850808Z",
     "start_time": "2019-04-06T02:46:07.540940Z"
    }
   },
   "outputs": [
    {
     "name": "stdout",
     "output_type": "stream",
     "text": [
      "Creating networks and loading parameters\n"
     ]
    },
    {
     "name": "stderr",
     "output_type": "stream",
     "text": [
      "  0%|          | 0/94 [00:00<?, ?it/s]/home/julia/anaconda3/envs/MSDS603/lib/python3.6/site-packages/ipykernel_launcher.py:33: DeprecationWarning: `imread` is deprecated!\n",
      "`imread` is deprecated in SciPy 1.0.0, and will be removed in 1.2.0.\n",
      "Use ``imageio.imread`` instead.\n",
      "/home/julia/anaconda3/envs/MSDS603/lib/python3.6/site-packages/ipykernel_launcher.py:46: DeprecationWarning: `imresize` is deprecated!\n",
      "`imresize` is deprecated in SciPy 1.0.0, and will be removed in 1.3.0.\n",
      "Use Pillow instead: ``numpy.array(Image.fromarray(arr).resize())``.\n",
      " 55%|█████▌    | 52/94 [00:14<00:12,  3.26it/s]"
     ]
    },
    {
     "name": "stdout",
     "output_type": "stream",
     "text": [
      "no face found in photos/photos_raw/luke/UNADJUSTEDNONRAW_thumb_2446.jpg\n"
     ]
    },
    {
     "name": "stderr",
     "output_type": "stream",
     "text": [
      "100%|██████████| 94/94 [00:26<00:00,  3.88it/s]\n"
     ]
    }
   ],
   "source": [
    "success_filenames, aligned_images = load_and_align_data(filenames)"
   ]
  },
  {
   "cell_type": "code",
   "execution_count": 5,
   "metadata": {
    "ExecuteTime": {
     "end_time": "2019-04-06T02:46:35.561402Z",
     "start_time": "2019-04-06T02:46:34.852752Z"
    }
   },
   "outputs": [
    {
     "name": "stderr",
     "output_type": "stream",
     "text": [
      "/home/julia/anaconda3/envs/MSDS603/lib/python3.6/site-packages/ipykernel_launcher.py:7: DeprecationWarning: `imsave` is deprecated!\n",
      "`imsave` is deprecated in SciPy 1.0.0, and will be removed in 1.2.0.\n",
      "Use ``imageio.imwrite`` instead.\n",
      "  import sys\n"
     ]
    },
    {
     "name": "stdout",
     "output_type": "stream",
     "text": [
      "photos/photos_raw/randy/UNADJUSTEDNONRAW_thumb_247e.jpg\n",
      "photos/photos_pyalign/randy/UNADJUSTEDNONRAW_thumb_247e.png\n",
      "\n",
      "photos/photos_raw/randy/UNADJUSTEDNONRAW_thumb_2462.jpg\n",
      "photos/photos_pyalign/randy/UNADJUSTEDNONRAW_thumb_2462.png\n",
      "\n",
      "photos/photos_raw/randy/UNADJUSTEDNONRAW_thumb_2484.jpg\n",
      "photos/photos_pyalign/randy/UNADJUSTEDNONRAW_thumb_2484.png\n",
      "\n",
      "photos/photos_raw/randy/UNADJUSTEDNONRAW_thumb_2481.jpg\n",
      "photos/photos_pyalign/randy/UNADJUSTEDNONRAW_thumb_2481.png\n",
      "\n",
      "photos/photos_raw/randy/UNADJUSTEDNONRAW_thumb_2463.jpg\n",
      "photos/photos_pyalign/randy/UNADJUSTEDNONRAW_thumb_2463.png\n",
      "\n",
      "photos/photos_raw/randy/UNADJUSTEDNONRAW_thumb_2470.jpg\n",
      "photos/photos_pyalign/randy/UNADJUSTEDNONRAW_thumb_2470.png\n",
      "\n",
      "photos/photos_raw/randy/UNADJUSTEDNONRAW_thumb_248b.jpg\n",
      "photos/photos_pyalign/randy/UNADJUSTEDNONRAW_thumb_248b.png\n",
      "\n",
      "photos/photos_raw/randy/UNADJUSTEDNONRAW_thumb_2473.jpg\n",
      "photos/photos_pyalign/randy/UNADJUSTEDNONRAW_thumb_2473.png\n",
      "\n",
      "photos/photos_raw/randy/UNADJUSTEDNONRAW_thumb_246b.jpg\n",
      "photos/photos_pyalign/randy/UNADJUSTEDNONRAW_thumb_246b.png\n",
      "\n",
      "photos/photos_raw/randy/UNADJUSTEDNONRAW_thumb_2477.jpg\n",
      "photos/photos_pyalign/randy/UNADJUSTEDNONRAW_thumb_2477.png\n",
      "\n",
      "photos/photos_raw/randy/UNADJUSTEDNONRAW_thumb_2482.jpg\n",
      "photos/photos_pyalign/randy/UNADJUSTEDNONRAW_thumb_2482.png\n",
      "\n",
      "photos/photos_raw/randy/UNADJUSTEDNONRAW_thumb_247d.jpg\n",
      "photos/photos_pyalign/randy/UNADJUSTEDNONRAW_thumb_247d.png\n",
      "\n",
      "photos/photos_raw/randy/UNADJUSTEDNONRAW_thumb_247c.jpg\n",
      "photos/photos_pyalign/randy/UNADJUSTEDNONRAW_thumb_247c.png\n",
      "\n",
      "photos/photos_raw/randy/UNADJUSTEDNONRAW_thumb_2490.jpg\n",
      "photos/photos_pyalign/randy/UNADJUSTEDNONRAW_thumb_2490.png\n",
      "\n",
      "photos/photos_raw/randy/UNADJUSTEDNONRAW_thumb_245e.jpg\n",
      "photos/photos_pyalign/randy/UNADJUSTEDNONRAW_thumb_245e.png\n",
      "\n",
      "photos/photos_raw/randy/UNADJUSTEDNONRAW_thumb_248e.jpg\n",
      "photos/photos_pyalign/randy/UNADJUSTEDNONRAW_thumb_248e.png\n",
      "\n",
      "photos/photos_raw/randy/UNADJUSTEDNONRAW_thumb_2489.jpg\n",
      "photos/photos_pyalign/randy/UNADJUSTEDNONRAW_thumb_2489.png\n",
      "\n",
      "photos/photos_raw/randy/UNADJUSTEDNONRAW_thumb_2479.jpg\n",
      "photos/photos_pyalign/randy/UNADJUSTEDNONRAW_thumb_2479.png\n",
      "\n",
      "photos/photos_raw/randy/UNADJUSTEDNONRAW_thumb_2467.jpg\n",
      "photos/photos_pyalign/randy/UNADJUSTEDNONRAW_thumb_2467.png\n",
      "\n",
      "photos/photos_raw/randy/UNADJUSTEDNONRAW_thumb_2471.jpg\n",
      "photos/photos_pyalign/randy/UNADJUSTEDNONRAW_thumb_2471.png\n",
      "\n",
      "photos/photos_raw/byron/UNADJUSTEDNONRAW_thumb_2442.jpg\n",
      "photos/photos_pyalign/byron/UNADJUSTEDNONRAW_thumb_2442.png\n",
      "\n",
      "photos/photos_raw/byron/UNADJUSTEDNONRAW_thumb_2448.jpg\n",
      "photos/photos_pyalign/byron/UNADJUSTEDNONRAW_thumb_2448.png\n",
      "\n",
      "photos/photos_raw/byron/UNADJUSTEDNONRAW_thumb_2451.jpg\n",
      "photos/photos_pyalign/byron/UNADJUSTEDNONRAW_thumb_2451.png\n",
      "\n",
      "photos/photos_raw/byron/UNADJUSTEDNONRAW_thumb_2454.jpg\n",
      "photos/photos_pyalign/byron/UNADJUSTEDNONRAW_thumb_2454.png\n",
      "\n",
      "photos/photos_raw/byron/UNADJUSTEDNONRAW_thumb_2445.jpg\n",
      "photos/photos_pyalign/byron/UNADJUSTEDNONRAW_thumb_2445.png\n",
      "\n",
      "photos/photos_raw/byron/UNADJUSTEDNONRAW_thumb_2453.jpg\n",
      "photos/photos_pyalign/byron/UNADJUSTEDNONRAW_thumb_2453.png\n",
      "\n",
      "photos/photos_raw/byron/UNADJUSTEDNONRAW_thumb_2450.jpg\n",
      "photos/photos_pyalign/byron/UNADJUSTEDNONRAW_thumb_2450.png\n",
      "\n",
      "photos/photos_raw/byron/UNADJUSTEDNONRAW_thumb_2457.jpg\n",
      "photos/photos_pyalign/byron/UNADJUSTEDNONRAW_thumb_2457.png\n",
      "\n",
      "photos/photos_raw/byron/UNADJUSTEDNONRAW_thumb_2440.jpg\n",
      "photos/photos_pyalign/byron/UNADJUSTEDNONRAW_thumb_2440.png\n",
      "\n",
      "photos/photos_raw/byron/UNADJUSTEDNONRAW_thumb_2447.jpg\n",
      "photos/photos_pyalign/byron/UNADJUSTEDNONRAW_thumb_2447.png\n",
      "\n",
      "photos/photos_raw/byron/UNADJUSTEDNONRAW_thumb_2443.jpg\n",
      "photos/photos_pyalign/byron/UNADJUSTEDNONRAW_thumb_2443.png\n",
      "\n",
      "photos/photos_raw/byron/UNADJUSTEDNONRAW_thumb_243f.jpg\n",
      "photos/photos_pyalign/byron/UNADJUSTEDNONRAW_thumb_243f.png\n",
      "\n",
      "photos/photos_raw/byron/UNADJUSTEDNONRAW_thumb_2459.jpg\n",
      "photos/photos_pyalign/byron/UNADJUSTEDNONRAW_thumb_2459.png\n",
      "\n",
      "photos/photos_raw/byron/UNADJUSTEDNONRAW_thumb_2456.jpg\n",
      "photos/photos_pyalign/byron/UNADJUSTEDNONRAW_thumb_2456.png\n",
      "\n",
      "photos/photos_raw/byron/UNADJUSTEDNONRAW_thumb_2458.jpg\n",
      "photos/photos_pyalign/byron/UNADJUSTEDNONRAW_thumb_2458.png\n",
      "\n",
      "photos/photos_raw/byron/UNADJUSTEDNONRAW_thumb_244f.jpg\n",
      "photos/photos_pyalign/byron/UNADJUSTEDNONRAW_thumb_244f.png\n",
      "\n",
      "photos/photos_raw/byron/UNADJUSTEDNONRAW_thumb_2449.jpg\n",
      "photos/photos_pyalign/byron/UNADJUSTEDNONRAW_thumb_2449.png\n",
      "\n",
      "photos/photos_raw/byron/UNADJUSTEDNONRAW_thumb_244e.jpg\n",
      "photos/photos_pyalign/byron/UNADJUSTEDNONRAW_thumb_244e.png\n",
      "\n",
      "photos/photos_raw/byron/UNADJUSTEDNONRAW_thumb_2452.jpg\n",
      "photos/photos_pyalign/byron/UNADJUSTEDNONRAW_thumb_2452.png\n",
      "\n",
      "photos/photos_raw/fiorella/UNADJUSTEDNONRAW_thumb_2493.jpg\n",
      "photos/photos_pyalign/fiorella/UNADJUSTEDNONRAW_thumb_2493.png\n",
      "\n",
      "photos/photos_raw/fiorella/UNADJUSTEDNONRAW_thumb_249a.jpg\n",
      "photos/photos_pyalign/fiorella/UNADJUSTEDNONRAW_thumb_249a.png\n",
      "\n",
      "photos/photos_raw/fiorella/UNADJUSTEDNONRAW_thumb_2497.jpg\n",
      "photos/photos_pyalign/fiorella/UNADJUSTEDNONRAW_thumb_2497.png\n",
      "\n",
      "photos/photos_raw/fiorella/UNADJUSTEDNONRAW_thumb_2496.jpg\n",
      "photos/photos_pyalign/fiorella/UNADJUSTEDNONRAW_thumb_2496.png\n",
      "\n",
      "photos/photos_raw/fiorella/UNADJUSTEDNONRAW_thumb_249f.jpg\n",
      "photos/photos_pyalign/fiorella/UNADJUSTEDNONRAW_thumb_249f.png\n",
      "\n",
      "photos/photos_raw/fiorella/UNADJUSTEDNONRAW_thumb_249b.jpg\n",
      "photos/photos_pyalign/fiorella/UNADJUSTEDNONRAW_thumb_249b.png\n",
      "\n",
      "photos/photos_raw/fiorella/UNADJUSTEDNONRAW_thumb_24a0.jpg\n",
      "photos/photos_pyalign/fiorella/UNADJUSTEDNONRAW_thumb_24a0.png\n",
      "\n",
      "photos/photos_raw/fiorella/UNADJUSTEDNONRAW_thumb_249c.jpg\n",
      "photos/photos_pyalign/fiorella/UNADJUSTEDNONRAW_thumb_249c.png\n",
      "\n",
      "photos/photos_raw/fiorella/UNADJUSTEDNONRAW_thumb_249d.jpg\n",
      "photos/photos_pyalign/fiorella/UNADJUSTEDNONRAW_thumb_249d.png\n",
      "\n",
      "photos/photos_raw/luke/UNADJUSTEDNONRAW_thumb_2455.jpg\n",
      "photos/photos_pyalign/luke/UNADJUSTEDNONRAW_thumb_2455.png\n",
      "\n",
      "photos/photos_raw/luke/UNADJUSTEDNONRAW_thumb_246f.jpg\n",
      "photos/photos_pyalign/luke/UNADJUSTEDNONRAW_thumb_246f.png\n",
      "\n",
      "photos/photos_raw/luke/UNADJUSTEDNONRAW_thumb_2472.jpg\n",
      "photos/photos_pyalign/luke/UNADJUSTEDNONRAW_thumb_2472.png\n",
      "\n",
      "photos/photos_raw/luke/UNADJUSTEDNONRAW_thumb_246d.jpg\n",
      "photos/photos_pyalign/luke/UNADJUSTEDNONRAW_thumb_246d.png\n",
      "\n",
      "photos/photos_raw/luke/UNADJUSTEDNONRAW_thumb_245b.jpg\n",
      "photos/photos_pyalign/luke/UNADJUSTEDNONRAW_thumb_245b.png\n",
      "\n",
      "photos/photos_raw/luke/UNADJUSTEDNONRAW_thumb_2468.jpg\n",
      "photos/photos_pyalign/luke/UNADJUSTEDNONRAW_thumb_2468.png\n",
      "\n",
      "photos/photos_raw/luke/UNADJUSTEDNONRAW_thumb_245c.jpg\n",
      "photos/photos_pyalign/luke/UNADJUSTEDNONRAW_thumb_245c.png\n",
      "\n",
      "photos/photos_raw/luke/UNADJUSTEDNONRAW_thumb_246c.jpg\n",
      "photos/photos_pyalign/luke/UNADJUSTEDNONRAW_thumb_246c.png\n",
      "\n",
      "photos/photos_raw/luke/UNADJUSTEDNONRAW_thumb_2469.jpg\n",
      "photos/photos_pyalign/luke/UNADJUSTEDNONRAW_thumb_2469.png\n",
      "\n",
      "photos/photos_raw/luke/UNADJUSTEDNONRAW_thumb_2466.jpg\n",
      "photos/photos_pyalign/luke/UNADJUSTEDNONRAW_thumb_2466.png\n",
      "\n",
      "photos/photos_raw/luke/UNADJUSTEDNONRAW_thumb_244c.jpg\n",
      "photos/photos_pyalign/luke/UNADJUSTEDNONRAW_thumb_244c.png\n",
      "\n",
      "photos/photos_raw/luke/UNADJUSTEDNONRAW_thumb_244b.jpg\n",
      "photos/photos_pyalign/luke/UNADJUSTEDNONRAW_thumb_244b.png\n",
      "\n",
      "photos/photos_raw/luke/UNADJUSTEDNONRAW_thumb_2464.jpg\n",
      "photos/photos_pyalign/luke/UNADJUSTEDNONRAW_thumb_2464.png\n",
      "\n",
      "photos/photos_raw/luke/UNADJUSTEDNONRAW_thumb_2465.jpg\n",
      "photos/photos_pyalign/luke/UNADJUSTEDNONRAW_thumb_2465.png\n",
      "\n",
      "photos/photos_raw/luke/UNADJUSTEDNONRAW_thumb_2441.jpg\n",
      "photos/photos_pyalign/luke/UNADJUSTEDNONRAW_thumb_2441.png\n",
      "\n",
      "photos/photos_raw/luke/UNADJUSTEDNONRAW_thumb_2444.jpg\n",
      "photos/photos_pyalign/luke/UNADJUSTEDNONRAW_thumb_2444.png\n",
      "\n",
      "photos/photos_raw/luke/UNADJUSTEDNONRAW_thumb_246a.jpg\n",
      "photos/photos_pyalign/luke/UNADJUSTEDNONRAW_thumb_246a.png\n",
      "\n",
      "photos/photos_raw/luke/UNADJUSTEDNONRAW_thumb_244d.jpg\n",
      "photos/photos_pyalign/luke/UNADJUSTEDNONRAW_thumb_244d.png\n",
      "\n",
      "photos/photos_raw/luke/UNADJUSTEDNONRAW_thumb_245a.jpg\n",
      "photos/photos_pyalign/luke/UNADJUSTEDNONRAW_thumb_245a.png\n",
      "\n",
      "photos/photos_raw/luke/UNADJUSTEDNONRAW_thumb_245f.jpg\n",
      "photos/photos_pyalign/luke/UNADJUSTEDNONRAW_thumb_245f.png\n",
      "\n",
      "photos/photos_raw/luke/UNADJUSTEDNONRAW_thumb_2474.jpg\n",
      "photos/photos_pyalign/luke/UNADJUSTEDNONRAW_thumb_2474.png\n",
      "\n",
      "photos/photos_raw/luke/UNADJUSTEDNONRAW_thumb_2461.jpg\n",
      "photos/photos_pyalign/luke/UNADJUSTEDNONRAW_thumb_2461.png\n",
      "\n",
      "photos/photos_raw/luke/UNADJUSTEDNONRAW_thumb_2460.jpg\n",
      "photos/photos_pyalign/luke/UNADJUSTEDNONRAW_thumb_2460.png\n",
      "\n",
      "photos/photos_raw/luke/UNADJUSTEDNONRAW_thumb_246e.jpg\n",
      "photos/photos_pyalign/luke/UNADJUSTEDNONRAW_thumb_246e.png\n",
      "\n",
      "photos/photos_raw/julia/UNADJUSTEDNONRAW_thumb_2480.jpg\n",
      "photos/photos_pyalign/julia/UNADJUSTEDNONRAW_thumb_2480.png\n",
      "\n",
      "photos/photos_raw/julia/UNADJUSTEDNONRAW_thumb_248d.jpg\n",
      "photos/photos_pyalign/julia/UNADJUSTEDNONRAW_thumb_248d.png\n",
      "\n",
      "photos/photos_raw/julia/UNADJUSTEDNONRAW_thumb_247b.jpg\n",
      "photos/photos_pyalign/julia/UNADJUSTEDNONRAW_thumb_247b.png\n",
      "\n",
      "photos/photos_raw/julia/UNADJUSTEDNONRAW_thumb_248a.jpg\n",
      "photos/photos_pyalign/julia/UNADJUSTEDNONRAW_thumb_248a.png\n",
      "\n",
      "photos/photos_raw/julia/UNADJUSTEDNONRAW_thumb_248c.jpg\n",
      "photos/photos_pyalign/julia/UNADJUSTEDNONRAW_thumb_248c.png\n",
      "\n",
      "photos/photos_raw/julia/UNADJUSTEDNONRAW_thumb_2483.jpg\n",
      "photos/photos_pyalign/julia/UNADJUSTEDNONRAW_thumb_2483.png\n",
      "\n",
      "photos/photos_raw/julia/UNADJUSTEDNONRAW_thumb_2478.jpg\n",
      "photos/photos_pyalign/julia/UNADJUSTEDNONRAW_thumb_2478.png\n",
      "\n",
      "photos/photos_raw/julia/UNADJUSTEDNONRAW_thumb_2487.jpg\n",
      "photos/photos_pyalign/julia/UNADJUSTEDNONRAW_thumb_2487.png\n",
      "\n",
      "photos/photos_raw/julia/UNADJUSTEDNONRAW_thumb_2485.jpg\n",
      "photos/photos_pyalign/julia/UNADJUSTEDNONRAW_thumb_2485.png\n",
      "\n",
      "photos/photos_raw/julia/UNADJUSTEDNONRAW_thumb_247f.jpg\n",
      "photos/photos_pyalign/julia/UNADJUSTEDNONRAW_thumb_247f.png\n",
      "\n"
     ]
    },
    {
     "name": "stdout",
     "output_type": "stream",
     "text": [
      "photos/photos_raw/julia/UNADJUSTEDNONRAW_thumb_2488.jpg\n",
      "photos/photos_pyalign/julia/UNADJUSTEDNONRAW_thumb_2488.png\n",
      "\n",
      "photos/photos_raw/julia/UNADJUSTEDNO"
     ]
    },
    {
     "data": {
      "text/html": [
       "<b>limit_output extension: Maximum message size of 10000 exceeded with 11134 characters</b>"
      ]
     },
     "metadata": {},
     "output_type": "display_data"
    }
   ],
   "source": [
    "for fname, img in zip(success_filenames, aligned_images):\n",
    "    new_fname = fname.replace(\"photos_raw\", \"photos_pyalign\").rsplit(\".\")[0] + \".png\"\n",
    "    os.makedirs(os.path.dirname(new_fname), exist_ok=True)\n",
    "    print(fname)\n",
    "    print(new_fname)\n",
    "    print()\n",
    "    misc.imsave(new_fname, img)"
   ]
  },
  {
   "cell_type": "code",
   "execution_count": 6,
   "metadata": {
    "ExecuteTime": {
     "end_time": "2019-04-06T02:46:36.114134Z",
     "start_time": "2019-04-06T02:46:35.563336Z"
    }
   },
   "outputs": [],
   "source": [
    "def load_image(img, do_random_crop, do_random_flip, image_size, do_prewhiten=True):\n",
    "    images = np.zeros((1, image_size, image_size, 3))\n",
    "    img = misc.imread(img)\n",
    "    if img.ndim == 2:\n",
    "        img = to_rgb(img)\n",
    "    if do_prewhiten:\n",
    "        img = prewhiten(img)\n",
    "    img = crop(img, do_random_crop, image_size)\n",
    "    img = flip(img, do_random_flip)\n",
    "    images[:,:,:,:] = img\n",
    "    return images"
   ]
  },
  {
   "cell_type": "code",
   "execution_count": 7,
   "metadata": {
    "ExecuteTime": {
     "end_time": "2019-04-06T02:46:57.999153Z",
     "start_time": "2019-04-06T02:46:36.117815Z"
    }
   },
   "outputs": [
    {
     "name": "stdout",
     "output_type": "stream",
     "text": [
      "Model directory: 20180408-102900\n",
      "Metagraph file: model-20180408-102900.meta\n",
      "Checkpoint file: model-20180408-102900.ckpt-90\n",
      "INFO:tensorflow:Restoring parameters from 20180408-102900/model-20180408-102900.ckpt-90\n"
     ]
    },
    {
     "name": "stderr",
     "output_type": "stream",
     "text": [
      "/home/julia/anaconda3/envs/MSDS603/lib/python3.6/site-packages/ipykernel_launcher.py:3: DeprecationWarning: `imread` is deprecated!\n",
      "`imread` is deprecated in SciPy 1.0.0, and will be removed in 1.2.0.\n",
      "Use ``imageio.imread`` instead.\n",
      "  This is separate from the ipykernel package so we can avoid doing imports until\n"
     ]
    }
   ],
   "source": [
    "from collections import Counter\n",
    "\n",
    "filenames = glob(\"photos/photos_pyalign/*/**\")\n",
    "\n",
    "with tf.Graph().as_default():\n",
    "    with tf.Session() as sess:\n",
    "        facenet.load_model(\"20180408-102900\")\n",
    "\n",
    "        # Get input and output tensors\n",
    "        images_placeholder = tf.get_default_graph().get_tensor_by_name(\"input:0\")\n",
    "        images_placeholder = tf.image.resize_images(images_placeholder,(160,160))\n",
    "        embeddings = tf.get_default_graph().get_tensor_by_name(\"embeddings:0\")\n",
    "        phase_train_placeholder = tf.get_default_graph().get_tensor_by_name(\"phase_train:0\")\n",
    "\n",
    "        image_size = 160\n",
    "        embedding_size = embeddings.get_shape()[1]\n",
    "        extracted_dict = {}\n",
    "        photo_counter = Counter()\n",
    "        # Run forward pass to calculate embeddings\n",
    "        for i, filename in enumerate(filenames):\n",
    "            images = load_image(filename, False, False, image_size)\n",
    "            feed_dict = { images_placeholder:images, phase_train_placeholder:False }\n",
    "            feature_vector = sess.run(embeddings, feed_dict=feed_dict)\n",
    "            name = filename.split(\"/\")[-2]\n",
    "            photo_counter[name] += 1\n",
    "            extracted_dict[\"{}_{}\".format(name, photo_counter[name])] =  feature_vector\n",
    "\n",
    "        with open('extracted_dict.pickle','wb') as f:\n",
    "            pickle.dump(extracted_dict,f)\n"
   ]
  },
  {
   "cell_type": "code",
   "execution_count": 11,
   "metadata": {
    "ExecuteTime": {
     "end_time": "2019-04-06T02:37:03.639306Z",
     "start_time": "2019-04-06T02:37:03.634226Z"
    }
   },
   "outputs": [],
   "source": [
    "# for orig, img in zip(success_filenames, aligned_images):\n",
    "#     plt.imshow(misc.imread(orig))\n",
    "#     plt.axis('off')\n",
    "#     plt.show()\n",
    "#     plt.imshow(img)\n",
    "#     plt.axis('off')\n",
    "#     plt.show()"
   ]
  }
 ],
 "metadata": {
  "kernelspec": {
   "display_name": "Python 3",
   "language": "python",
   "name": "python3"
  },
  "language_info": {
   "codemirror_mode": {
    "name": "ipython",
    "version": 3
   },
   "file_extension": ".py",
   "mimetype": "text/x-python",
   "name": "python",
   "nbconvert_exporter": "python",
   "pygments_lexer": "ipython3",
   "version": "3.6.8"
  }
 },
 "nbformat": 4,
 "nbformat_minor": 2
}
